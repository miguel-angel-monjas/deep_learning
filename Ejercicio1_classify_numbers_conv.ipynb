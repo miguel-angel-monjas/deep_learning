{
  "nbformat": 4,
  "nbformat_minor": 0,
  "metadata": {
    "colab": {
      "name": "Ejercicio1_classify_numbers_conv.ipynb",
      "provenance": [],
      "collapsed_sections": [],
      "include_colab_link": true
    },
    "kernelspec": {
      "name": "python3",
      "display_name": "Python 3"
    },
    "language_info": {
      "name": "python"
    },
    "accelerator": "GPU"
  },
  "cells": [
    {
      "cell_type": "markdown",
      "metadata": {
        "id": "view-in-github",
        "colab_type": "text"
      },
      "source": [
        "<a href=\"https://colab.research.google.com/github/miguel-angel-monjas/deep_learning/blob/main/Ejercicio1_classify_numbers_conv.ipynb\" target=\"_parent\"><img src=\"https://colab.research.google.com/assets/colab-badge.svg\" alt=\"Open In Colab\"/></a>"
      ]
    },
    {
      "cell_type": "markdown",
      "metadata": {
        "id": "gd62ecXytn2N"
      },
      "source": [
        "# **Recognition of written numbers**\n",
        "In this workbook, we will build a neural network that recognizes written numbers from 0 to 9.\n",
        "\n",
        "This type of neural network is used in a variety of real-world applications, including: phone number recognition and sorting postal mail by address. To build the network, we will use the MNIST dataset, which consists of images of handwritten numbers and their correct labels from 0 to 9.\n",
        "\n",
        "We will use keras, a high-level library built on top of TensorFlow to build the neural network. We will start by importing all the modules we will need, then load the data and finally build the network."
      ]
    },
    {
      "cell_type": "code",
      "metadata": {
        "id": "FNcFrAYJteEz"
      },
      "source": [
        "import numpy as np\n",
        "import tensorflow as tf\n",
        "from keras.models import Sequential, Model\n",
        "from keras.layers import Dense, Input, Flatten\n",
        "from keras.datasets import mnist\n",
        "from sklearn.metrics import confusion_matrix, classification_report\n",
        "import matplotlib.pyplot as plt\n",
        "%matplotlib inline\n",
        "\n",
        "from keras.utils.np_utils import to_categorical"
      ],
      "execution_count": 1,
      "outputs": []
    },
    {
      "cell_type": "markdown",
      "metadata": {
        "id": "Co5MIc6auDPj"
      },
      "source": [
        "# **Preparation of training and test data**.\n",
        "\n",
        "The MNIST dataset already contains training and test data. There are 55,000 training data points and 10,000 test data points.\n",
        "\n",
        "Each MNIST data point has an image of a handwritten digit and a corresponding label (a number 0-9).\n",
        "a corresponding label (a number 0-9 that identifies the image).\n",
        "We will call the images, which will be the input to our neural network, X and their corresponding Y labels.\n",
        "\n",
        "We will want our labels to be one-hit vectors, i.e., vectors containing mostly 0's and one 1. It is easier to see this in an example. As a one-hit vector, the number 0 is represented as [1, 0, 0, 0, 0, 0, 0, 0, 0, 0, 0, 0], and 4 is represented as [0, 0, 0, 0, 0, 0, 1, 0, 0, 0, 0, 0].\n",
        "\n",
        "\n",
        "# Flattened data\n",
        "For this example, we will use flattened data or a representation of the MNIST images in one dimension instead of two. Thus, each handwritten number image, which has 28x28 pixels, will be represented as a one-dimensional array of 784 pixel values.\n",
        "\n",
        "Flattening the data removes information about the 2D structure of the image, but simplifies our data so that all the training data can be contained in a matrix whose shape is [55000, 784]; the first dimension is the number of training images and the second is the number of pixels in each image. This is the type of data that is easy to analyze using a simple neural network.\n",
        "Recognition of written numbers\n"
      ]
    },
    {
      "cell_type": "code",
      "metadata": {
        "id": "aVetL8D9uCZl",
        "colab": {
          "base_uri": "https://localhost:8080/"
        },
        "outputId": "c3fbe22b-8e62-4c50-ef05-f95ed0a77bf9"
      },
      "source": [
        "# Cargamos los datos de train y test\n",
        "(trainX, trainY), (testX, testY) = mnist.load_data()"
      ],
      "execution_count": 2,
      "outputs": [
        {
          "output_type": "stream",
          "name": "stdout",
          "text": [
            "Downloading data from https://storage.googleapis.com/tensorflow/tf-keras-datasets/mnist.npz\n",
            "11493376/11490434 [==============================] - 0s 0us/step\n",
            "11501568/11490434 [==============================] - 0s 0us/step\n"
          ]
        }
      ]
    },
    {
      "cell_type": "markdown",
      "metadata": {
        "id": "9sDfwLvYvReo"
      },
      "source": [
        "**Enter the code required to display the size of the data obtained** "
      ]
    },
    {
      "cell_type": "code",
      "metadata": {
        "id": "nhz-eLjEujno",
        "colab": {
          "base_uri": "https://localhost:8080/"
        },
        "outputId": "b5d9f683-2998-4a5a-cf35-6784fce4bcd6"
      },
      "source": [
        "print (\"Tamaño de trainX: \", trainX.shape)\n",
        "print (\"Tamaño de trainY: \", trainY.shape)\n",
        "print (\"Tamaño de testX: \", testX.shape)\n",
        "print (\"Tamaño de testY: \", testY.shape)"
      ],
      "execution_count": 3,
      "outputs": [
        {
          "output_type": "stream",
          "name": "stdout",
          "text": [
            "Tamaño de trainX:  (60000, 28, 28)\n",
            "Tamaño de trainY:  (60000,)\n",
            "Tamaño de testX:  (10000, 28, 28)\n",
            "Tamaño de testY:  (10000,)\n"
          ]
        }
      ]
    },
    {
      "cell_type": "markdown",
      "metadata": {
        "id": "pPZxh30KvbyM"
      },
      "source": [
        "# **Viewing training data**\n",
        "Below is a function that will help you visualize MNIST data. When passing the index of a training example, the show_digit function will display that training image along with its corresponding title tag."
      ]
    },
    {
      "cell_type": "code",
      "metadata": {
        "colab": {
          "base_uri": "https://localhost:8080/",
          "height": 281
        },
        "id": "NOrVb4NzvrPY",
        "outputId": "a2f71d52-0844-408f-aa45-1679cadde4a3"
      },
      "source": [
        "#Función para visualizar los datos que acabamos de cargar\n",
        "def display_digit(index):\n",
        "    label = trainY[index].argmax(axis=0)\n",
        "    # Reshape 784 array into 28x28 image\n",
        "    image = trainX[index].reshape([28,28])\n",
        "    plt.title('Training data, index: %d,  Label: %d' % (index, label))\n",
        "    plt.imshow(image, cmap='gray_r')\n",
        "    plt.show()\n",
        "    \n",
        "# Visualizamos el dígito que queramos pasando una posicióndel array\n",
        "display_digit(2)"
      ],
      "execution_count": 4,
      "outputs": [
        {
          "output_type": "display_data",
          "data": {
            "image/png": "[encoded data removed]",
            "text/plain": [
              "<Figure size 432x288 with 1 Axes>"
            ]
          },
          "metadata": {
            "needs_background": "light"
          }
        }
      ]
    },
    {
      "cell_type": "markdown",
      "metadata": {
        "id": "vU55P7RRw-TN"
      },
      "source": [
        "# **MLP Model**"
      ]
    },
    {
      "cell_type": "code",
      "metadata": {
        "colab": {
          "base_uri": "https://localhost:8080/"
        },
        "id": "zWE3Ok-fjOyo",
        "outputId": "2ebc039e-4920-49f5-80f8-176663351e57"
      },
      "source": [
        "num_pixels = trainX.shape[1] * trainX.shape[2] # 28*28\n",
        "trainX = trainX.reshape(trainX.shape[0], num_pixels).astype('float32')\n",
        "testX = testX.reshape(testX.shape[0], num_pixels).astype('float32')\n",
        "trainX.shape\n"
      ],
      "execution_count": 5,
      "outputs": [
        {
          "output_type": "execute_result",
          "data": {
            "text/plain": [
              "(60000, 784)"
            ]
          },
          "metadata": {},
          "execution_count": 5
        }
      ]
    },
    {
      "cell_type": "code",
      "metadata": {
        "colab": {
          "base_uri": "https://localhost:8080/"
        },
        "id": "dZD3HmEIjvjw",
        "outputId": "09cce668-4b35-4307-8f47-66c6d8291141"
      },
      "source": [
        "#Normalize [0..1]\n",
        "trainX = trainX / 255\n",
        "testX = testX / 255\n",
        "\n",
        "# one hot encoding for labels\n",
        "trainY = to_categorical(trainY)\n",
        "testY = to_categorical(testY)\n",
        "num_classes = testY.shape[1]\n",
        "\n",
        "testY.shape"
      ],
      "execution_count": 6,
      "outputs": [
        {
          "output_type": "execute_result",
          "data": {
            "text/plain": [
              "(10000, 10)"
            ]
          },
          "metadata": {},
          "execution_count": 6
        }
      ]
    },
    {
      "cell_type": "code",
      "metadata": {
        "id": "HoxX2CS0vzwq"
      },
      "source": [
        "# Nuestro modelo\n",
        "def build_model():\n",
        "    # Con esta linea se resetean todos los parametros y variables\n",
        "    tf.compat.v1.reset_default_graph()\n",
        "    \n",
        "    #### Your code ####\n",
        "    model = Sequential()\n",
        "    model.add(Flatten(input_shape=(784))) #capa de entrada / flatten\n",
        "    model.add(Dense(512))\n",
        "    model.add(Dense(num_pixels, input_dim=num_pixels, activation='relu'))\n",
        "    model.add(Dense(num_classes, activation='softmax'))\n",
        "    # Compilamos el modelo\n",
        "    model.compile(loss='categorical_crossentropy', optimizer='adam', metrics=['accuracy'])\n",
        "    return model"
      ],
      "execution_count": 23,
      "outputs": []
    },
    {
      "cell_type": "markdown",
      "metadata": {
        "id": "CYw1byIny9PU"
      },
      "source": [
        "# **Training**"
      ]
    },
    {
      "cell_type": "code",
      "metadata": {
        "id": "oS_HfWvA2YBc",
        "colab": {
          "base_uri": "https://localhost:8080/"
        },
        "outputId": "63964796-f5b1-4ce0-8977-9b91f6c9a8ae"
      },
      "source": [
        "# construye el modelo\n",
        "model = build_model()\n",
        "model.summary()\n",
        "\n",
        "model.fit(trainX, \n",
        "          trainY, \n",
        "          validation_data=(testX, testY), \n",
        "          epochs=10, \n",
        "          batch_size=128,\n",
        "          verbose=2)\n",
        "\n",
        "scores = model.evaluate(testX, testY, verbose=0)\n",
        "print(\"Error: %.2f%%\" % (100-scores[1]*100))"
      ],
      "execution_count": 24,
      "outputs": [
        {
          "output_type": "stream",
          "name": "stdout",
          "text": [
            "Model: \"sequential\"\n",
            "_________________________________________________________________\n",
            "Layer (type)                 Output Shape              Param #   \n",
            "=================================================================\n",
            "flatten (Flatten)            (None, 784)               0         \n",
            "_________________________________________________________________\n",
            "dense (Dense)                (None, 512)               401920    \n",
            "_________________________________________________________________\n",
            "dense_1 (Dense)              (None, 784)               402192    \n",
            "_________________________________________________________________\n",
            "dense_2 (Dense)              (None, 10)                7850      \n",
            "=================================================================\n",
            "Total params: 811,962\n",
            "Trainable params: 811,962\n",
            "Non-trainable params: 0\n",
            "_________________________________________________________________\n",
            "Epoch 1/10\n",
            "WARNING:tensorflow:Model was constructed with shape (None, 28, 28) for input KerasTensor(type_spec=TensorSpec(shape=(None, 28, 28), dtype=tf.float32, name='flatten_input'), name='flatten_input', description=\"created by layer 'flatten_input'\"), but it was called on an input with incompatible shape (None, 784).\n",
            "WARNING:tensorflow:Model was constructed with shape (None, 28, 28) for input KerasTensor(type_spec=TensorSpec(shape=(None, 28, 28), dtype=tf.float32, name='flatten_input'), name='flatten_input', description=\"created by layer 'flatten_input'\"), but it was called on an input with incompatible shape (None, 784).\n",
            "WARNING:tensorflow:Model was constructed with shape (None, 28, 28) for input KerasTensor(type_spec=TensorSpec(shape=(None, 28, 28), dtype=tf.float32, name='flatten_input'), name='flatten_input', description=\"created by layer 'flatten_input'\"), but it was called on an input with incompatible shape (None, 784).\n",
            "469/469 - 8s - loss: 0.2162 - accuracy: 0.9354 - val_loss: 0.1077 - val_accuracy: 0.9676\n",
            "Epoch 2/10\n",
            "469/469 - 8s - loss: 0.0947 - accuracy: 0.9700 - val_loss: 0.0885 - val_accuracy: 0.9730\n",
            "Epoch 3/10\n",
            "469/469 - 7s - loss: 0.0675 - accuracy: 0.9787 - val_loss: 0.0812 - val_accuracy: 0.9756\n",
            "Epoch 4/10\n",
            "469/469 - 7s - loss: 0.0574 - accuracy: 0.9817 - val_loss: 0.0775 - val_accuracy: 0.9762\n",
            "Epoch 5/10\n",
            "469/469 - 8s - loss: 0.0457 - accuracy: 0.9858 - val_loss: 0.0779 - val_accuracy: 0.9781\n",
            "Epoch 6/10\n",
            "469/469 - 8s - loss: 0.0458 - accuracy: 0.9857 - val_loss: 0.1061 - val_accuracy: 0.9729\n",
            "Epoch 7/10\n",
            "469/469 - 7s - loss: 0.0380 - accuracy: 0.9876 - val_loss: 0.1005 - val_accuracy: 0.9739\n",
            "Epoch 8/10\n",
            "469/469 - 7s - loss: 0.0380 - accuracy: 0.9874 - val_loss: 0.1055 - val_accuracy: 0.9752\n",
            "Epoch 9/10\n",
            "469/469 - 8s - loss: 0.0311 - accuracy: 0.9901 - val_loss: 0.1261 - val_accuracy: 0.9738\n",
            "Epoch 10/10\n",
            "469/469 - 8s - loss: 0.0288 - accuracy: 0.9911 - val_loss: 0.0898 - val_accuracy: 0.9795\n",
            "Error: 2.05%\n"
          ]
        }
      ]
    },
    {
      "cell_type": "markdown",
      "metadata": {
        "id": "zf672cs82bmw"
      },
      "source": [
        "\n",
        "# **Testing**\n"
      ]
    },
    {
      "cell_type": "code",
      "metadata": {
        "id": "GtqwCVLL24Vq",
        "colab": {
          "base_uri": "https://localhost:8080/"
        },
        "outputId": "7b92153a-8f8a-4751-beea-f8e60e99b387"
      },
      "source": [
        "# Comparar los resultados obtenidos de la predicción del modelo con las clases reales \n",
        "# Con la función argmax lo que hacemos es obtener el índice con mayor valor del array (en este caso de un array [ 0  0.2  0.2 0.1 0.5] obtendriamos un 4)\n",
        "predictions = np.array(model.predict(testX)).argmax(axis=1)\n",
        "\n",
        "# Igual ocurre con las clases reales, lo traducimos de array a valor numérico y sacamos la media de aciertos\n",
        "actual = testY.argmax(axis=1)\n",
        "test_accuracy = np.mean(predictions == actual, axis=0)\n",
        "\n",
        "# Print out the result\n",
        "print(\"Test accuracy: \", test_accuracy)"
      ],
      "execution_count": 18,
      "outputs": [
        {
          "output_type": "stream",
          "name": "stdout",
          "text": [
            "Test accuracy:  0.9775\n"
          ]
        }
      ]
    },
    {
      "cell_type": "markdown",
      "metadata": {
        "id": "CSC_w9-Do1az"
      },
      "source": [
        "**Confusion matrix**"
      ]
    },
    {
      "cell_type": "code",
      "metadata": {
        "colab": {
          "base_uri": "https://localhost:8080/"
        },
        "id": "I5Ep0K_gohNK",
        "outputId": "c20ca2ce-6f63-4f78-b151-c61153713d2c"
      },
      "source": [
        "y_pred = model.predict(testX)\n",
        "y_pred = np.argmax(y_pred, axis=1)\n",
        "\n",
        "confusion_matrix = confusion_matrix(y_true=testY.argmax(axis=1), y_pred=y_pred)\n",
        "confusion_matrix"
      ],
      "execution_count": 19,
      "outputs": [
        {
          "output_type": "execute_result",
          "data": {
            "text/plain": [
              "array([[ 971,    1,    1,    2,    1,    0,    1,    0,    2,    1],\n",
              "       [   0, 1127,    3,    2,    0,    0,    0,    1,    2,    0],\n",
              "       [   1,    1, 1018,    2,    1,    0,    1,    6,    2,    0],\n",
              "       [   0,    0,    8,  987,    0,    4,    0,    2,    4,    5],\n",
              "       [   1,    2,    3,    0,  966,    1,    3,    1,    1,    4],\n",
              "       [   2,    0,    1,   20,    1,  858,    1,    1,    7,    1],\n",
              "       [   4,    4,    2,    1,    5,    7,  926,    0,    9,    0],\n",
              "       [   2,    8,    7,    1,    2,    0,    0, 1002,    2,    4],\n",
              "       [   1,    1,    4,    3,    1,    0,    0,    3,  959,    2],\n",
              "       [   2,    4,    0,    9,   11,    9,    0,    5,    8,  961]])"
            ]
          },
          "metadata": {},
          "execution_count": 19
        }
      ]
    },
    {
      "cell_type": "markdown",
      "metadata": {
        "id": "frz4trLNpMb0"
      },
      "source": [
        "**Quality measures**"
      ]
    },
    {
      "cell_type": "code",
      "metadata": {
        "colab": {
          "base_uri": "https://localhost:8080/"
        },
        "id": "NHKCWbm6ojZT",
        "outputId": "cca1d04a-729d-4a11-9ce5-a9659766af08"
      },
      "source": [
        "#MEDIDAS DE CALIDAD\n",
        "snn_report = classification_report(np.argmax(testY, axis=1), y_pred)  \n",
        "print(snn_report)"
      ],
      "execution_count": 20,
      "outputs": [
        {
          "output_type": "stream",
          "name": "stdout",
          "text": [
            "              precision    recall  f1-score   support\n",
            "\n",
            "           0       0.99      0.99      0.99       980\n",
            "           1       0.98      0.99      0.99      1135\n",
            "           2       0.97      0.99      0.98      1032\n",
            "           3       0.96      0.98      0.97      1010\n",
            "           4       0.98      0.98      0.98       982\n",
            "           5       0.98      0.96      0.97       892\n",
            "           6       0.99      0.97      0.98       958\n",
            "           7       0.98      0.97      0.98      1028\n",
            "           8       0.96      0.98      0.97       974\n",
            "           9       0.98      0.95      0.97      1009\n",
            "\n",
            "    accuracy                           0.98     10000\n",
            "   macro avg       0.98      0.98      0.98     10000\n",
            "weighted avg       0.98      0.98      0.98     10000\n",
            "\n"
          ]
        }
      ]
    },
    {
      "cell_type": "markdown",
      "metadata": {
        "id": "6-Tyu4jqdoVK"
      },
      "source": [
        "## Exercise 1 - Convolutional Networks\n",
        "\n",
        "For this exercise, as shown in the rest of the notebook, we have an MLP network for classification.\n",
        "Based on the MLP network we are going to design a convolutional network to try to improve the accuracy of the results. To do this we are asked to:\n",
        "\n",
        "\n",
        "1.   Generate and train a convolutional network.\n",
        "2.   Compare the results obtained with the MLP network.\n",
        "\n",
        "\n",
        "\n"
      ]
    },
    {
      "cell_type": "code",
      "metadata": {
        "id": "4vvFz4Wevn3B"
      },
      "source": [
        "import numpy as np\n",
        "import tensorflow as tf\n",
        "\n",
        "from keras.layers import Dense, Input, Flatten, Conv2D, MaxPooling2D\n",
        "from keras.models import Sequential\n",
        "from keras.datasets import mnist\n",
        "from keras.utils.np_utils import to_categorical\n",
        "from sklearn.metrics import confusion_matrix, classification_report"
      ],
      "execution_count": 17,
      "outputs": []
    },
    {
      "cell_type": "code",
      "metadata": {
        "colab": {
          "base_uri": "https://localhost:8080/"
        },
        "id": "8y04GdP3voqF",
        "outputId": "16564196-58b1-4354-9e60-f19b2fd57ee5"
      },
      "source": [
        "(trainX, trainY), (testX, testY) = mnist.load_data()"
      ],
      "execution_count": 3,
      "outputs": [
        {
          "output_type": "stream",
          "name": "stdout",
          "text": [
            "Downloading data from https://storage.googleapis.com/tensorflow/tf-keras-datasets/mnist.npz\n",
            "11493376/11490434 [==============================] - 0s 0us/step\n",
            "11501568/11490434 [==============================] - 0s 0us/step\n"
          ]
        }
      ]
    },
    {
      "cell_type": "code",
      "metadata": {
        "id": "GnGZ_Oe-wqQZ"
      },
      "source": [
        "# Model / data parameters\n",
        "num_classes = 10\n",
        "input_shape = (28, 28, 1)\n",
        "\n",
        "# the data, split between train and test sets\n",
        "(x_train, y_train), (x_test, y_test) = mnist.load_data()\n",
        "\n",
        "# Scale images to the [0, 1] range\n",
        "x_train = x_train.astype(\"float32\") / 255\n",
        "x_test = x_test.astype(\"float32\") / 255\n",
        "# Make sure images have shape (28, 28, 1)\n",
        "x_train = np.expand_dims(x_train, -1)\n",
        "x_test = np.expand_dims(x_test, -1)\n",
        "\n",
        "# convert class vectors to binary class matrices\n",
        "y_train = to_categorical(y_train, num_classes)\n",
        "y_test = to_categorical(y_test, num_classes)"
      ],
      "execution_count": 6,
      "outputs": []
    },
    {
      "cell_type": "code",
      "metadata": {
        "colab": {
          "base_uri": "https://localhost:8080/"
        },
        "id": "gqNpwa5Jvt6s",
        "outputId": "72d29f50-6b0e-4e82-cb55-05cde11c56a3"
      },
      "source": [
        "print (\"Tamaño de x_train: \", x_train.shape)\n",
        "print (\"Tamaño de y_train: \", y_train.shape)\n",
        "print (\"Tamaño de x_test: \", x_test.shape)\n",
        "print (\"Tamaño de y_test: \", y_test.shape)"
      ],
      "execution_count": 8,
      "outputs": [
        {
          "output_type": "stream",
          "name": "stdout",
          "text": [
            "Tamaño de trainX:  (60000, 28, 28, 1)\n",
            "Tamaño de trainY:  (60000, 10)\n",
            "Tamaño de testX:  (10000, 28, 28, 1)\n",
            "Tamaño de testY:  (10000, 10)\n"
          ]
        }
      ]
    },
    {
      "cell_type": "code",
      "metadata": {
        "id": "hv6u1bEMeKUY"
      },
      "source": [
        "def build_convolutional_model(input_shape):\n",
        "    # Con esta linea se resetean todos los parametros y variables\n",
        "    tf.compat.v1.reset_default_graph()\n",
        "    \n",
        "    model = Sequential(\n",
        "        [\n",
        "          Input(shape=input_shape),\n",
        "          Conv2D(32, kernel_size=(3,3), activation='relu'),\n",
        "          MaxPooling2D(pool_size=(2,2)),\n",
        "          Conv2D(64, kernel_size=(3,3), activation='relu'),\n",
        "          MaxPooling2D(pool_size=(2,2)),\n",
        "          Flatten(),\n",
        "          Dense(num_classes, activation=\"softmax\")     \n",
        "        ]\n",
        "    )\n",
        "    # Compilamos el modelo\n",
        "    model.compile(loss='categorical_crossentropy', optimizer='adam', metrics=['accuracy'])\n",
        "    return model"
      ],
      "execution_count": 12,
      "outputs": []
    },
    {
      "cell_type": "code",
      "metadata": {
        "colab": {
          "base_uri": "https://localhost:8080/"
        },
        "id": "u0vOMUBMu54Q",
        "outputId": "f3443591-160b-4a34-ec44-f7aa5828326e"
      },
      "source": [
        "model = build_convolutional_model(input_shape)\n",
        "model.summary()"
      ],
      "execution_count": 13,
      "outputs": [
        {
          "output_type": "stream",
          "name": "stdout",
          "text": [
            "Model: \"sequential\"\n",
            "_________________________________________________________________\n",
            "Layer (type)                 Output Shape              Param #   \n",
            "=================================================================\n",
            "conv2d (Conv2D)              (None, 26, 26, 32)        320       \n",
            "_________________________________________________________________\n",
            "max_pooling2d (MaxPooling2D) (None, 13, 13, 32)        0         \n",
            "_________________________________________________________________\n",
            "conv2d_1 (Conv2D)            (None, 11, 11, 64)        18496     \n",
            "_________________________________________________________________\n",
            "max_pooling2d_1 (MaxPooling2 (None, 5, 5, 64)          0         \n",
            "_________________________________________________________________\n",
            "flatten (Flatten)            (None, 1600)              0         \n",
            "_________________________________________________________________\n",
            "dense (Dense)                (None, 10)                16010     \n",
            "=================================================================\n",
            "Total params: 34,826\n",
            "Trainable params: 34,826\n",
            "Non-trainable params: 0\n",
            "_________________________________________________________________\n"
          ]
        }
      ]
    },
    {
      "cell_type": "code",
      "metadata": {
        "colab": {
          "base_uri": "https://localhost:8080/"
        },
        "id": "akz0uyPHwML1",
        "outputId": "a19b9d80-42d6-4aa6-9561-9281c1c59979"
      },
      "source": [
        "model.fit(x_train, \n",
        "          y_train, \n",
        "          validation_split=0.1, \n",
        "          epochs=10, \n",
        "          batch_size=128,\n",
        "          verbose=2)"
      ],
      "execution_count": 14,
      "outputs": [
        {
          "output_type": "stream",
          "name": "stdout",
          "text": [
            "Epoch 1/10\n",
            "422/422 - 31s - loss: 0.3128 - accuracy: 0.9109 - val_loss: 0.0814 - val_accuracy: 0.9773\n",
            "Epoch 2/10\n",
            "422/422 - 3s - loss: 0.0832 - accuracy: 0.9751 - val_loss: 0.0668 - val_accuracy: 0.9812\n",
            "Epoch 3/10\n",
            "422/422 - 3s - loss: 0.0603 - accuracy: 0.9815 - val_loss: 0.0545 - val_accuracy: 0.9862\n",
            "Epoch 4/10\n",
            "422/422 - 3s - loss: 0.0500 - accuracy: 0.9846 - val_loss: 0.0515 - val_accuracy: 0.9863\n",
            "Epoch 5/10\n",
            "422/422 - 3s - loss: 0.0415 - accuracy: 0.9876 - val_loss: 0.0452 - val_accuracy: 0.9878\n",
            "Epoch 6/10\n",
            "422/422 - 3s - loss: 0.0374 - accuracy: 0.9884 - val_loss: 0.0421 - val_accuracy: 0.9888\n",
            "Epoch 7/10\n",
            "422/422 - 3s - loss: 0.0315 - accuracy: 0.9899 - val_loss: 0.0408 - val_accuracy: 0.9887\n",
            "Epoch 8/10\n",
            "422/422 - 3s - loss: 0.0282 - accuracy: 0.9912 - val_loss: 0.0409 - val_accuracy: 0.9895\n",
            "Epoch 9/10\n",
            "422/422 - 3s - loss: 0.0241 - accuracy: 0.9921 - val_loss: 0.0408 - val_accuracy: 0.9880\n",
            "Epoch 10/10\n",
            "422/422 - 3s - loss: 0.0207 - accuracy: 0.9934 - val_loss: 0.0441 - val_accuracy: 0.9878\n"
          ]
        },
        {
          "output_type": "execute_result",
          "data": {
            "text/plain": [
              "<keras.callbacks.History at 0x7f2990366c50>"
            ]
          },
          "metadata": {},
          "execution_count": 14
        }
      ]
    },
    {
      "cell_type": "code",
      "metadata": {
        "colab": {
          "base_uri": "https://localhost:8080/"
        },
        "id": "99gy5TYhWxUE",
        "outputId": "faa69295-e204-44d1-a410-a9266c8d0fbf"
      },
      "source": [
        "predictions = np.array(model.predict(x_test)).argmax(axis=1)\n",
        "\n",
        "# Igual ocurre con las clases reales, lo traducimos de array a valor numérico y sacamos la media de aciertos\n",
        "actual = y_test.argmax(axis=1)\n",
        "test_accuracy = np.mean(predictions == actual, axis=0)\n",
        "\n",
        "# Print out the result\n",
        "print(\"Test accuracy: \", test_accuracy)"
      ],
      "execution_count": 15,
      "outputs": [
        {
          "output_type": "stream",
          "name": "stdout",
          "text": [
            "Test accuracy:  0.9882\n"
          ]
        }
      ]
    },
    {
      "cell_type": "code",
      "metadata": {
        "colab": {
          "base_uri": "https://localhost:8080/"
        },
        "id": "YFvcoEi7W_zD",
        "outputId": "5585cc83-fe1e-4a48-a74c-5c1d9013b98f"
      },
      "source": [
        "y_pred = model.predict(x_test)\n",
        "y_pred = np.argmax(y_pred, axis=1)\n",
        "\n",
        "confusion_matrix = confusion_matrix(y_true=y_test.argmax(axis=1), y_pred=y_pred)\n",
        "confusion_matrix"
      ],
      "execution_count": 18,
      "outputs": [
        {
          "output_type": "execute_result",
          "data": {
            "text/plain": [
              "array([[ 976,    0,    1,    0,    0,    0,    0,    2,    1,    0],\n",
              "       [   0, 1127,    1,    2,    1,    0,    2,    0,    2,    0],\n",
              "       [   2,    1, 1024,    1,    0,    0,    0,    2,    2,    0],\n",
              "       [   0,    0,    1, 1003,    0,    4,    0,    0,    2,    0],\n",
              "       [   0,    0,    1,    0,  972,    0,    1,    0,    0,    8],\n",
              "       [   1,    0,    0,    7,    0,  882,    1,    0,    1,    0],\n",
              "       [   4,    2,    1,    0,    1,    4,  942,    0,    4,    0],\n",
              "       [   0,    3,   14,    3,    0,    0,    0, 1003,    0,    5],\n",
              "       [   5,    0,    2,    2,    0,    1,    0,    1,  961,    2],\n",
              "       [   0,    1,    0,    5,    3,    5,    0,    3,    0,  992]])"
            ]
          },
          "metadata": {},
          "execution_count": 18
        }
      ]
    },
    {
      "cell_type": "code",
      "metadata": {
        "colab": {
          "base_uri": "https://localhost:8080/"
        },
        "id": "bAJvEzygXL5d",
        "outputId": "9acb5349-2b12-4b5e-a664-8458a5a2e21f"
      },
      "source": [
        "snn_report = classification_report(np.argmax(y_test, axis=1), y_pred)  \n",
        "print(snn_report)"
      ],
      "execution_count": 19,
      "outputs": [
        {
          "output_type": "stream",
          "name": "stdout",
          "text": [
            "              precision    recall  f1-score   support\n",
            "\n",
            "           0       0.99      1.00      0.99       980\n",
            "           1       0.99      0.99      0.99      1135\n",
            "           2       0.98      0.99      0.99      1032\n",
            "           3       0.98      0.99      0.99      1010\n",
            "           4       0.99      0.99      0.99       982\n",
            "           5       0.98      0.99      0.99       892\n",
            "           6       1.00      0.98      0.99       958\n",
            "           7       0.99      0.98      0.98      1028\n",
            "           8       0.99      0.99      0.99       974\n",
            "           9       0.99      0.98      0.98      1009\n",
            "\n",
            "    accuracy                           0.99     10000\n",
            "   macro avg       0.99      0.99      0.99     10000\n",
            "weighted avg       0.99      0.99      0.99     10000\n",
            "\n"
          ]
        }
      ]
    }
  ]
}